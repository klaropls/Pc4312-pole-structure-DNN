{
 "cells": [
  {
   "cell_type": "code",
   "execution_count": null,
   "id": "3366500b-fc20-43a8-8e1c-ee4658ff35f9",
   "metadata": {},
   "outputs": [],
   "source": [
    "import math\n",
    "import numpy as np\n",
    "import cmath as cm\n",
    "import random\n",
    "import pickle\n",
    "import os\n",
    "import pandas as pd\n",
    "import matplotlib.pyplot as plt\n",
    "from matplotlib.pyplot import figure\n",
    "import chainer\n",
    "from chainer import configuration\n",
    "from chainer.dataset import convert\n",
    "import sklearn\n",
    "from sklearn.utils import shuffle\n",
    "from tabulate import tabulate\n",
    "import datetime\n",
    "\n",
    "#Import the module containing the class pole\n",
    "import import_ipynb\n",
    "import final_pole_module\n",
    "from final_pole_module import detect_cusp, unif_pole, T1, T2, Einput,  generate_timestamp, seerealimagpart\n",
    "from final_pole_module import mu1, mu2, T1, T2, T4, Nreal, Nimag, hbarc, phase_space, polynomial\n",
    "from final_pole_module import Einput, Ereal, Eimag, Erealfar, Eimagfar, E_exp, labelz, inspect, NEpoints\n",
    "from final_pole_module import skip_duplicate, export_data, import_data, get_traintest, directory"
   ]
  },
  {
   "cell_type": "code",
   "execution_count": null,
   "id": "90bdeb98-39d2-4657-96f3-537b2cc9bf9c",
   "metadata": {
    "tags": []
   },
   "outputs": [],
   "source": [
    "def gen_ccdataset00(Ereal, Eimag, Erealfar, Eimagfar, inspect):\n",
    "    # Generate dataset for output label 00: 'no nearby pole'\n",
    "    count = 0 \n",
    "    \n",
    "    Emock = []\n",
    "    ModEsq = []\n",
    "    Re11 = []\n",
    "    Re22 = []\n",
    "    Im11 = []\n",
    "    Im22 = []\n",
    "    labelout = []\n",
    "    data_info = []\n",
    "    \n",
    "    \n",
    "    # Possible Riemann sheets\n",
    "    RSpole = [[-1, 1], [-1, -1], [1, -1]]\n",
    "    \n",
    "    # Shuffle indexing\n",
    "    for lst in [Ereal, Eimag, Erealfar, Eimagfar]:\n",
    "        for _ in range(10):\n",
    "            np.random.shuffle(lst)\n",
    "\n",
    "    # Generate poles in each Riemann sheet\n",
    "    for real1 in range(Nreal):\n",
    "        for imag1 in range(Nimag):\n",
    "    \n",
    "            # To avoid repeated poles, we introduce random index\n",
    "            indx = skip_duplicate(real1, imag1, Nreal, Nimag)\n",
    "            \n",
    "            #Generate no main pole\n",
    "            pole01 = unif_pole(RSpole[0], Ereal[indx[0][0]], Eimag[indx[1][0]] )\n",
    "            pole02 = unif_pole(RSpole[0], Ereal[indx[0][1]], Eimag[indx[1][1]] )\n",
    "            pole03 = unif_pole(RSpole[0], Ereal[indx[0][2]], Eimag[indx[1][2]] )\n",
    "            pole04 = unif_pole(RSpole[0], Ereal[indx[0][3]], Eimag[indx[1][3]] )\n",
    "            \n",
    "            # Generate BG poles in different Riemann sheet\n",
    "            pole1 = unif_pole( RSpole[np.random.choice([1, 2])], Erealfar[indx[0][4]], Eimagfar[indx[1][4]] )\n",
    "            pole2 = unif_pole( RSpole[np.random.choice([1, 2])], Erealfar[indx[0][5]], Eimagfar[indx[1][5]] )\n",
    "            pole3 = unif_pole( RSpole[np.random.choice([1, 2])], Erealfar[indx[0][6]], Eimagfar[indx[1][6]] )\n",
    "            pole4 = unif_pole( RSpole[np.random.choice([1, 2])], Erealfar[indx[0][7]], Eimagfar[indx[1][7]] )\n",
    "            pole5 = unif_pole( RSpole[np.random.choice([1, 2])], Erealfar[indx[0][8]], Eimagfar[indx[1][8]] )\n",
    "            pole6 = unif_pole( RSpole[np.random.choice([1, 2])], Erealfar[indx[0][9]], Eimagfar[indx[1][9]] )\n",
    "        \n",
    "        pole_list_main = [pole01, pole02, pole03, pole04]\n",
    "        pole_list_bg = [pole1, pole2, pole3, pole4, pole5, pole6]\n",
    "        pole_list = [pole01, pole02, pole03, pole04, pole1, pole2, pole3, pole4, pole5, pole6]\n",
    "        \n",
    "        # Calculate BG S-matrices for each pole for all energy points\n",
    "        smat11_values = np.array([pole.smat11(Einput) for pole in pole_list_main])\n",
    "        smat22_values = np.array([pole.smat22(Einput) for pole in pole_list_main])\n",
    "        smatdet_values = np.array([pole.smatdet(Einput) for pole in pole_list_main])\n",
    "\n",
    "        # Calculate BG S-matrices for each pole for all energy points\n",
    "        smat11_values_bg = np.array([pole.smat11(Einput) for pole in pole_list_bg])\n",
    "        smat22_values_bg = np.array([pole.smat22(Einput) for pole in pole_list_bg])\n",
    "        smatdet_values_bg = np.array([pole.smatdet(Einput) for pole in pole_list_bg])\n",
    "\n",
    "        q01 = 1\n",
    "        q02 = 0\n",
    "        q03 = 0\n",
    "        q04 = 0\n",
    "        q1 = 0#np.random.choice([0, 1])\n",
    "        q2 = 0#np.random.choice([0, 1])\n",
    "        q3 = 0#np.random.choice([0, 1])\n",
    "        q4 = 0#np.random.choice([0, 1])\n",
    "        q5 = 0#np.random.choice([0, 1])\n",
    "        q6 = 0#np.random.choice([0, 1])\n",
    "        \n",
    "        q_list = [q01, q02, q03, q04, q1, q2, q3, q4, q5, q6]\n",
    "\n",
    "        #pwa11\n",
    "        combined_smat11 = ((1-q04)+q04*smat11_values[3])*((1-q03)+q03*smat11_values[2])*((1-q02)+q02*smat11_values[1])*((1-q01)+q01*smat11_values[0])*((1-q1)+q1*smat11_values_bg[0])*((1-q2)+q2*smat11_values_bg[1])*((1-q3)+q3*smat11_values_bg[2])*((1-q4)+q4*smat11_values_bg[3])*((1-q5)+q5*smat11_values_bg[4])*((1-q6)+q6*smat11_values_bg[5])\n",
    "        pwa11 = (combined_smat11 - 1.0) / (2j)\n",
    "        \n",
    "        #pwa22\n",
    "        combined_smat22 = ((1-q04)+q04*smat22_values[3])*((1-q03)+q03*smat22_values[2])*((1-q02)+q02*smat22_values[1])*((1-q01)+q01*smat22_values[0])*((1-q1)+q1*smat22_values_bg[0])*((1-q2)+q2*smat22_values_bg[1])*((1-q3)+q3*smat22_values_bg[2])*((1-q4)+q4*smat22_values_bg[3])*((1-q5)+q5*smat22_values_bg[4])*((1-q6)+q6*smat22_values_bg[5])\n",
    "        pwa22 = (combined_smat22 - 1.0) / (2j)*np.heaviside(Einput.real-T2*197.3,0)\n",
    "        \n",
    "        #pwa12\n",
    "        combined_smatdet = ((1-q04)+q04*smatdet_values[3])*((1-q03)+q03*smatdet_values[2])*((1-q02)+q02*smatdet_values[1])*((1-q01)+q01*smatdet_values[0])*((1-q1)+q1*smatdet_values_bg[0])*((1-q2)+q2*smatdet_values_bg[1])*((1-q3)+q3*smatdet_values_bg[2])*((1-q4)+q4*smatdet_values_bg[3])*((1-q5)+q5*smatdet_values_bg[4])*((1-q6)+q6*smatdet_values_bg[5])\n",
    "        pwa12sqr = ((-1.0)*((combined_smat11*combined_smat22-combined_smatdet))/4.0)*np.heaviside(Einput.real-T2*197.3,0)\n",
    "        mod12sqr = np.abs(pwa12sqr)\n",
    "        arg12sqr = np.unwrap(np.array([np.angle(z) for z in pwa12sqr]))\n",
    "        pwa12 = np.sqrt(mod12sqr)*np.exp(1j* arg12sqr / 2)\n",
    "\n",
    "      \n",
    "\n",
    "        # Calculate PWAT\n",
    "        pwatadd = pwa11 + pwa12\n",
    "        PWAT = np.abs(pwatadd)**2 #np.conjugate(pwa11) * pwa11 + np.conjugate(pwa12) * pwa12 + np.conjugate(pwa11)*pwa12 +pwa11*np.conjugate(pwa12)\n",
    "\n",
    "        coeff = np.random.uniform(0, 5, 3)\n",
    "        A = np.random.uniform(1, 1000)\n",
    "        poly_bg = polynomial(coeff, Einput)\n",
    "        \n",
    "        sim_exp = A*phase_space*(PWAT + poly_bg)\n",
    "        PWAT = sim_exp\n",
    "\n",
    "        count += 1\n",
    "        #print(f\"{count:04d}: DONE\")\n",
    "        \n",
    "        # Collect input data\n",
    "        Emock.append(Einput) \n",
    "        ModEsq.append(PWAT)\n",
    "        Re11.append(pwa11.real)\n",
    "        Im11.append(pwa11.imag)\n",
    "        Re22.append(pwa22.real)\n",
    "        Im22.append(pwa22.imag)\n",
    "        labelout.append(0)\n",
    "\n",
    "\n",
    "        if inspect == True:\n",
    "            information = [[pole.pos for pole in pole_list], \n",
    "                           [pole.RS for pole in pole_list],\n",
    "                           q_list\n",
    "                          ]\n",
    "            data_info.append(information)\n",
    "\n",
    "    return Emock, ModEsq, Re11, Im11, Re22, Im22, labelout, data_info"
   ]
  },
  {
   "cell_type": "code",
   "execution_count": null,
   "id": "deabd66b-8d6f-41f9-97bd-1574583908f9",
   "metadata": {
    "tags": []
   },
   "outputs": [],
   "source": [
    "Einput00, ModEsq00, Re11_00, Im11_00, Re22_00, Im22_00, labelout00, data_info00  = gen_ccdataset00(Ereal, Eimag, Erealfar, Eimagfar, inspect)\n",
    "out = directory\n",
    "pickle.dump (Einput00, open(os.path.join(out,'Einput00.pkl'),'wb'), protocol=4)\n",
    "pickle.dump (ModEsq00, open(os.path.join(out,'ModEsq00.pkl'),'wb'), protocol=4)\n",
    "pickle.dump (labelout00, open(os.path.join(out,'labelout00.pkl'),'wb'), protocol=4)\n",
    "pickle.dump (data_info00, open(os.path.join(out,'data_info00.pkl'),'wb'), protocol=4)\n",
    "#The following will collect the data that will go to the input layer:\n",
    "#You can design a DNN with Einput and T11sqr in the input layer\n",
    "# PWATsqr00 = [x*np.conjugate(x) + y*np.conjugate(y) + np.conjugate(x)*y + x*np.conjugate(y) for x, y in zip(RePWAT00, ImPWAT00)]\n",
    "PWATsqr00 = np.concatenate((Einput00,ModEsq00), axis=1)\n",
    "#or you can design a DNN with Einput, ReT11 and ImT11 in the input layer\n",
    "# PWAT00 = np.concatenate((Einput00,ReT1100, ImT1100), axis=1)\n",
    "pickle.dump (PWATsqr00, open(os.path.join(out,'PWATsqr00.pkl'),'wb'), protocol=4)\n",
    "# pickle.dump (T1100, open(os.path.join(out,'T1100.pkl'),'wb'), protocol=4)\n",
    "# del Einput21, ModEsq21, RePWAT21, ImPWAT21, labelout21, data_info21, PWATsqr21"
   ]
  },
  {
   "cell_type": "code",
   "execution_count": null,
   "id": "d97ede65-7b6a-4dad-81db-27d0a4598da7",
   "metadata": {
    "tags": []
   },
   "outputs": [],
   "source": [
    "seerealimagpart(Einput00, ModEsq00, Re11_00, Im11_00, Re22_00, Im22_00, labelout00, data_info00)"
   ]
  },
  {
   "cell_type": "code",
   "execution_count": null,
   "id": "3c90dadc-d401-480a-af1a-2061dab88a32",
   "metadata": {},
   "outputs": [],
   "source": [
    "seerealimagpart(Einput00, ModEsq00, Re11_00, Im11_00, Re22_00, Im22_00, labelout00, data_info00)"
   ]
  },
  {
   "cell_type": "code",
   "execution_count": null,
   "id": "10d77c15-cda4-49ad-8677-b1c300897867",
   "metadata": {},
   "outputs": [],
   "source": [
    "seerealimagpart(Einput00, ModEsq00, Re11_00, Im11_00, Re22_00, Im22_00, labelout00, data_info00)"
   ]
  },
  {
   "cell_type": "code",
   "execution_count": null,
   "id": "640c6980-9214-4ac4-9e66-c0bb3ee6727b",
   "metadata": {},
   "outputs": [],
   "source": [
    "seerealimagpart(Einput00, ModEsq00, Re11_00, Im11_00, Re22_00, Im22_00, labelout00, data_info00)"
   ]
  },
  {
   "cell_type": "code",
   "execution_count": null,
   "id": "0e457299-b672-4d09-a06e-73ddd0eae2d6",
   "metadata": {},
   "outputs": [],
   "source": [
    "seerealimagpart(Einput00, ModEsq00, Re11_00, Im11_00, Re22_00, Im22_00, labelout00, data_info00)"
   ]
  },
  {
   "cell_type": "code",
   "execution_count": null,
   "id": "c67fe1df-543d-4595-871b-8eb4c7d7e6c4",
   "metadata": {},
   "outputs": [],
   "source": [
    "seerealimagpart(Einput00, ModEsq00, Re11_00, Im11_00, Re22_00, Im22_00, labelout00, data_info00)"
   ]
  },
  {
   "cell_type": "code",
   "execution_count": null,
   "id": "a3cda0db-98cf-4230-b9cc-a2723dd306d9",
   "metadata": {},
   "outputs": [],
   "source": [
    "seerealimagpart(Einput00, ModEsq00, Re11_00, Im11_00, Re22_00, Im22_00, labelout00, data_info00)"
   ]
  },
  {
   "cell_type": "code",
   "execution_count": null,
   "id": "2a545cec-3bea-4762-b950-0c436ce6e71a",
   "metadata": {},
   "outputs": [],
   "source": [
    "seerealimagpart(Einput00, ModEsq00, Re11_00, Im11_00, Re22_00, Im22_00, labelout00, data_info00)"
   ]
  },
  {
   "cell_type": "code",
   "execution_count": null,
   "id": "38ae7a84-73a2-4951-a6f9-38e4215496e8",
   "metadata": {},
   "outputs": [],
   "source": [
    "seerealimagpart(Einput00, ModEsq00, Re11_00, Im11_00, Re22_00, Im22_00, labelout00, data_info00)"
   ]
  },
  {
   "cell_type": "code",
   "execution_count": null,
   "id": "acfcec9b-6b2f-4c5d-b202-b3d076d81fc7",
   "metadata": {},
   "outputs": [],
   "source": [
    "seerealimagpart(Einput00, ModEsq00, Re11_00, Im11_00, Re22_00, Im22_00, labelout00, data_info00)"
   ]
  },
  {
   "cell_type": "code",
   "execution_count": null,
   "id": "62606bbe-2b71-472e-810f-39088b854a52",
   "metadata": {},
   "outputs": [],
   "source": [
    "seerealimagpart(Einput00, ModEsq00, Re11_00, Im11_00, Re22_00, Im22_00, labelout00, data_info00)"
   ]
  },
  {
   "cell_type": "code",
   "execution_count": null,
   "id": "42216de5-8253-40e0-98bb-18134976b98f",
   "metadata": {},
   "outputs": [],
   "source": [
    "seerealimagpart(Einput00, ModEsq00, Re11_00, Im11_00, Re22_00, Im22_00, labelout00, data_info00)"
   ]
  },
  {
   "cell_type": "code",
   "execution_count": null,
   "id": "5bd0b01b-c11b-43e8-bdad-36b641fb8eab",
   "metadata": {},
   "outputs": [],
   "source": [
    "seerealimagpart(Einput00, ModEsq00, Re11_00, Im11_00, Re22_00, Im22_00, labelout00, data_info00)"
   ]
  },
  {
   "cell_type": "code",
   "execution_count": null,
   "id": "db78563e-4e01-47d5-aec4-e414840ff984",
   "metadata": {},
   "outputs": [],
   "source": [
    "seerealimagpart(Einput00, ModEsq00, Re11_00, Im11_00, Re22_00, Im22_00, labelout00, data_info00)"
   ]
  },
  {
   "cell_type": "code",
   "execution_count": null,
   "id": "5d93d49b-0c8e-41e2-86cc-5c4f24d46a1f",
   "metadata": {},
   "outputs": [],
   "source": [
    "seerealimagpart(Einput00, ModEsq00, Re11_00, Im11_00, Re22_00, Im22_00, labelout00, data_info00)"
   ]
  },
  {
   "cell_type": "code",
   "execution_count": null,
   "id": "c7ee04a4-3019-4cab-bbf7-0d8c979d602d",
   "metadata": {},
   "outputs": [],
   "source": [
    "seerealimagpart(Einput00, ModEsq00, Re11_00, Im11_00, Re22_00, Im22_00, labelout00, data_info00)"
   ]
  },
  {
   "cell_type": "code",
   "execution_count": null,
   "id": "ba254280-c04d-4c93-ad5d-9671e72b1204",
   "metadata": {},
   "outputs": [],
   "source": [
    "seerealimagpart(Einput00, ModEsq00, Re11_00, Im11_00, Re22_00, Im22_00, labelout00, data_info00)"
   ]
  },
  {
   "cell_type": "code",
   "execution_count": null,
   "id": "990a5953-748b-4398-8435-33d4826d2e6a",
   "metadata": {},
   "outputs": [],
   "source": [
    "seerealimagpart(Einput00, ModEsq00, Re11_00, Im11_00, Re22_00, Im22_00, labelout00, data_info00)"
   ]
  },
  {
   "cell_type": "code",
   "execution_count": null,
   "id": "a69a6f2f-13cb-4b20-bd54-13807b7d1792",
   "metadata": {},
   "outputs": [],
   "source": [
    "seerealimagpart(Einput00, ModEsq00, Re11_00, Im11_00, Re22_00, Im22_00, labelout00, data_info00)"
   ]
  },
  {
   "cell_type": "code",
   "execution_count": null,
   "id": "4d510c21-8495-434f-b55f-5da75e112ac1",
   "metadata": {},
   "outputs": [],
   "source": [
    "seerealimagpart(Einput00, ModEsq00, Re11_00, Im11_00, Re22_00, Im22_00, labelout00, data_info00)"
   ]
  },
  {
   "cell_type": "code",
   "execution_count": null,
   "id": "4eb15b1d-09dc-48d6-934d-d28992601b0a",
   "metadata": {},
   "outputs": [],
   "source": [
    "del Einput00, ModEsq00, Re11_00, Im11_00, Re22_00, Im22_00, labelout00, data_info00"
   ]
  },
  {
   "cell_type": "code",
   "execution_count": null,
   "id": "7c4b13a4-3191-4c68-8260-124e586d2203",
   "metadata": {},
   "outputs": [],
   "source": []
  }
 ],
 "metadata": {
  "kernelspec": {
   "display_name": "Python 3 (ipykernel)",
   "language": "python",
   "name": "python3"
  },
  "language_info": {
   "codemirror_mode": {
    "name": "ipython",
    "version": 3
   },
   "file_extension": ".py",
   "mimetype": "text/x-python",
   "name": "python",
   "nbconvert_exporter": "python",
   "pygments_lexer": "ipython3",
   "version": "3.12.4"
  }
 },
 "nbformat": 4,
 "nbformat_minor": 5
}
