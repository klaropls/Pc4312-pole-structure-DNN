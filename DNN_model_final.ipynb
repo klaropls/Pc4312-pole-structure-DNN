{
 "cells": [
  {
   "cell_type": "code",
   "execution_count": null,
   "id": "196e374d-3356-4e92-be01-0d1632129727",
   "metadata": {},
   "outputs": [],
   "source": [
    "import chainer\n",
    "import chainer.links as L\n",
    "import chainer.functions as F"
   ]
  },
  {
   "cell_type": "code",
   "execution_count": null,
   "id": "a92c2e65-d606-4d85-bfff-6888168d65ce",
   "metadata": {},
   "outputs": [],
   "source": [
    "class CustomMLP(chainer.Chain):\n",
    "    def __init__(self, num_layers, nodes_per_layer):\n",
    "        super(CustomMLP, self).__init__()\n",
    "        with self.init_scope():\n",
    "            self.layers = chainer.ChainList()\n",
    "            for i in range(num_layers - 1):\n",
    "                self.layers.add_link(L.Linear(None, nodes_per_layer[i], nobias=False, initialW=None, initial_bias=None))\n",
    "            self.output_layer = L.Linear(None, 35, nobias=False, initialW=None, initial_bias=None)\n",
    "\n",
    "    def forward(self, x):\n",
    "        h = x\n",
    "        for layer in self.layers:\n",
    "            h = F.relu(layer(h))\n",
    "        return self.output_layer(h)\n",
    "\n",
    "# Example usage:\n",
    "# num_layers = 3\n",
    "# nodes_per_layer = [250, 250, 250]\n",
    "\n",
    "# model = CustomMLP(num_layers, nodes_per_layer)"
   ]
  },
  {
   "cell_type": "code",
   "execution_count": 10,
   "id": "3ac6f9e6-27a5-4b33-bf9d-431a74eb42cc",
   "metadata": {
    "tags": []
   },
   "outputs": [
    {
     "ename": "NameError",
     "evalue": "name 'chainer' is not defined",
     "output_type": "error",
     "traceback": [
      "\u001b[1;31m---------------------------------------------------------------------------\u001b[0m",
      "\u001b[1;31mNameError\u001b[0m                                 Traceback (most recent call last)",
      "Cell \u001b[1;32mIn[10], line 1\u001b[0m\n\u001b[1;32m----> 1\u001b[0m \u001b[38;5;28;01mclass\u001b[39;00m \u001b[38;5;21;01mMLP_drp\u001b[39;00m(chainer\u001b[38;5;241m.\u001b[39mChain):\n\u001b[0;32m      2\u001b[0m     \u001b[38;5;66;03m#Two hidden layers with 200-200 nodes with dropout\u001b[39;00m\n\u001b[0;32m      3\u001b[0m     \u001b[38;5;28;01mdef\u001b[39;00m \u001b[38;5;21m__init__\u001b[39m(\u001b[38;5;28mself\u001b[39m):\n\u001b[0;32m      4\u001b[0m         \u001b[38;5;28msuper\u001b[39m(MLP_drp, \u001b[38;5;28mself\u001b[39m)\u001b[38;5;241m.\u001b[39m\u001b[38;5;21m__init__\u001b[39m()\n",
      "\u001b[1;31mNameError\u001b[0m: name 'chainer' is not defined"
     ]
    }
   ],
   "source": [
    "class MLP_drp(chainer.Chain):\n",
    "    #Two hidden layers with 200-200 nodes with dropout\n",
    "    def __init__(self):\n",
    "        super(MLP_drp, self).__init__()\n",
    "        with self.init_scope():\n",
    "            self.l1 = L.Linear(200, 300, nobias=False, initialW=None, initial_bias=None)\n",
    "            self.l2 = L.Linear(300, 200, nobias=False, initialW=None, initial_bias=None)\n",
    "            self.l3 = L.Linear(200, 20, nobias=False, initialW=None, initial_bias=None)\n",
    "\n",
    "    def forward(self, x):\n",
    "        h1 = F.relu(self.l1(x))\n",
    "        d1 = F.dropout(h1, ratio=0.25)\n",
    "        h2 = F.relu(self.l2(d1))\n",
    "        d2 = F.dropout(h2, ratio=0.25)\n",
    "        return self.l3(d2)"
   ]
  },
  {
   "cell_type": "code",
   "execution_count": null,
   "id": "3eacf849-c707-4711-9c99-59055ce99a01",
   "metadata": {},
   "outputs": [],
   "source": [
    "class MLP7_drp(chainer.Chain):\n",
    "    #Two hidden layers with 200-200 nodes with dropout\n",
    "    def __init__(self):\n",
    "        super(MLP7_drp, self).__init__()\n",
    "        with self.init_scope():\n",
    "            self.l1 = L.Linear(200, 300, nobias=False, initialW=None, initial_bias=None)\n",
    "            self.l2 = L.Linear(300, 400, nobias=False, initialW=None, initial_bias=None)\n",
    "            self.l3 = L.Linear(400, 500, nobias=False, initialW=None, initial_bias=None)\n",
    "            self.l4 = L.Linear(500, 300, nobias=False, initialW=None, initial_bias=None)\n",
    "            self.l5 = L.Linear(300, 200, nobias=False, initialW=None, initial_bias=None)\n",
    "            self.l6 = L.Linear(200, 100, nobias=False, initialW=None, initial_bias=None)\n",
    "\n",
    "    def forward(self, x):\n",
    "        d0 = F.dropout(x, ratio=0.30)\n",
    "        h1 = F.relu(self.l1(d0))\n",
    "        d1 = F.dropout(h1, ratio=0.30)\n",
    "        h2 = F.relu(self.l2(d1))\n",
    "        d2 = F.dropout(h2, ratio=0.30)\n",
    "        h3 = F.relu(self.l3(d2))\n",
    "        d3 = F.dropout(h3, ratio=0.30)\n",
    "        h4 = F.relu(self.l4(d3))\n",
    "        d4 = F.dropout(h4, ratio=0.30)\n",
    "        h5 = F.relu(self.l5(d4))\n",
    "        d5 = F.dropout(h5, ratio=0.30)\n",
    "        #h6 = F.relu(self.l5(d5))\n",
    "        return self.l6(d5)"
   ]
  },
  {
   "cell_type": "code",
   "execution_count": null,
   "id": "7981cd95-ba68-4911-9af6-f09d73564951",
   "metadata": {},
   "outputs": [],
   "source": [
    "class MLP7a_drp(chainer.Chain):\n",
    "    #Two hidden layers with 200-200 nodes with dropout\n",
    "    def __init__(self):\n",
    "        super(MLP7a_drp, self).__init__()\n",
    "        with self.init_scope():\n",
    "            self.l1 = L.Linear(200, 300, nobias=False, initialW=None, initial_bias=None)\n",
    "            self.l2 = L.Linear(300, 400, nobias=False, initialW=None, initial_bias=None)\n",
    "            self.l3 = L.Linear(400, 500, nobias=False, initialW=None, initial_bias=None)\n",
    "            self.l4 = L.Linear(500, 300, nobias=False, initialW=None, initial_bias=None)\n",
    "            self.l5 = L.Linear(300, 200, nobias=False, initialW=None, initial_bias=None)\n",
    "            self.l6 = L.Linear(200, 100, nobias=False, initialW=None, initial_bias=None)\n",
    "\n",
    "    def forward(self, x):\n",
    "        h1 = F.relu(self.l1(x))\n",
    "        #d1 = F.dropout(h1, ratio=0.25)\n",
    "        h2 = F.relu(self.l2(h1))\n",
    "        #d2 = F.dropout(h2, ratio=0.25)\n",
    "        h3 = F.relu(self.l3(h2))\n",
    "        #d3 = F.dropout(h3, ratio=0.25)\n",
    "        h4 = F.relu(self.l4(h3))\n",
    "        #d4 = F.dropout(h4, ratio=0.25)\n",
    "        h5 = F.relu(self.l5(h4))\n",
    "        #d5 = F.dropout(h5, ratio=0.25)\n",
    "        #h6 = F.relu(self.l5(d5))\n",
    "        return self.l6(h5)"
   ]
  }
 ],
 "metadata": {
  "kernelspec": {
   "display_name": "Python 3 (ipykernel)",
   "language": "python",
   "name": "python3"
  },
  "language_info": {
   "codemirror_mode": {
    "name": "ipython",
    "version": 3
   },
   "file_extension": ".py",
   "mimetype": "text/x-python",
   "name": "python",
   "nbconvert_exporter": "python",
   "pygments_lexer": "ipython3",
   "version": "3.11.7"
  }
 },
 "nbformat": 4,
 "nbformat_minor": 5
}
