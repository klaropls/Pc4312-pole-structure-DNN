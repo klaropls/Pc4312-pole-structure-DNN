{
 "cells": [
  {
   "cell_type": "code",
   "execution_count": null,
   "id": "196e374d-3356-4e92-be01-0d1632129727",
   "metadata": {},
   "outputs": [],
   "source": [
    "import chainer\n",
    "import chainer.links as L\n",
    "import chainer.functions as F"
   ]
  },
  {
   "cell_type": "code",
   "execution_count": null,
   "id": "a92c2e65-d606-4d85-bfff-6888168d65ce",
   "metadata": {},
   "outputs": [],
   "source": [
    "class CustomMLP(chainer.Chain):\n",
    "    def __init__(self, num_layers, nodes_per_layer):\n",
    "        super(CustomMLP, self).__init__()\n",
    "        with self.init_scope():\n",
    "            self.layers = chainer.ChainList()\n",
    "            for i in range(num_layers - 1):\n",
    "                self.layers.add_link(L.Linear(None, nodes_per_layer[i], nobias=False, initialW=None, initial_bias=None))\n",
    "            self.output_layer = L.Linear(None, 35, nobias=False, initialW=None, initial_bias=None)\n",
    "\n",
    "    def forward(self, x):\n",
    "        h = x\n",
    "        for layer in self.layers:\n",
    "            h = F.relu(layer(h))\n",
    "        return self.output_layer(h)\n",
    "\n",
    "# Example usage:\n",
    "# num_layers = 3\n",
    "# nodes_per_layer = [250, 250, 250]\n",
    "\n",
    "# model = CustomMLP(num_layers, nodes_per_layer)"
   ]
  }
 ],
 "metadata": {
  "kernelspec": {
   "display_name": "Python 3 (ipykernel)",
   "language": "python",
   "name": "python3"
  },
  "language_info": {
   "codemirror_mode": {
    "name": "ipython",
    "version": 3
   },
   "file_extension": ".py",
   "mimetype": "text/x-python",
   "name": "python",
   "nbconvert_exporter": "python",
   "pygments_lexer": "ipython3",
   "version": "3.11.4"
  }
 },
 "nbformat": 4,
 "nbformat_minor": 5
}
