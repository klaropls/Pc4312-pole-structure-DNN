{
 "cells": [
  {
   "cell_type": "code",
   "execution_count": null,
   "id": "c937d308-05c3-4ce0-98a7-17101e106161",
   "metadata": {},
   "outputs": [],
   "source": [
    "import math\n",
    "import numpy as np\n",
    "import cmath as cm\n",
    "import random\n",
    "import pickle\n",
    "import os\n",
    "import pandas as pd\n",
    "import matplotlib.pyplot as plt\n",
    "from matplotlib.pyplot import figure\n",
    "import chainer\n",
    "from chainer import configuration\n",
    "from chainer.dataset import convert\n",
    "import sklearn\n",
    "from sklearn.utils import shuffle\n",
    "from tabulate import tabulate\n",
    "import datetime\n",
    "\n",
    "#Import the module containing the class pole\n",
    "import import_ipynb\n",
    "import final_pole_module\n",
    "from final_pole_module import detect_cusp, unif_pole, T1, T2, Einput,  generate_timestamp, seerealimagpart\n",
    "from final_pole_module import mu1, mu2, T1, T2, T4, Nreal, Nimag, hbarc, phase_space, polynomial\n",
    "from final_pole_module import Einput, Ereal, Eimag, Erealfar, Eimagfar, E_exp, labelz, inspect, NEpoints\n",
    "from final_pole_module import skip_duplicate, export_data, import_data, get_traintest, directory"
   ]
  },
  {
   "cell_type": "code",
   "execution_count": null,
   "id": "fc51dd2c-1f06-4329-9a46-249410cfca21",
   "metadata": {},
   "outputs": [],
   "source": [
    "def gen_ccdataset03(Ereal, Eimag, Erealfar, Eimagfar, inspect):\n",
    "    #generate dataset for output label 03: '3 poles in [bt]'\n",
    "    \n",
    "    Emock = []\n",
    "    ModEsq = []\n",
    "    Re11 = []\n",
    "    Re22 = []\n",
    "    Im11 = []\n",
    "    Im22 = []\n",
    "    labelout = []\n",
    "    data_info = []\n",
    "    \n",
    "    \n",
    "    # Possible Riemann sheets\n",
    "    RSpole = [[-1, 1], [-1, -1], [1, -1]] #bt  bb tb\n",
    "    \n",
    "    # Shuffle indexing\n",
    "    for lst in [Ereal, Eimag, Erealfar, Eimagfar]:\n",
    "        for _ in range(10):\n",
    "            np.random.shuffle(lst)\n",
    "\n",
    "    # Generate poles in each Riemann sheet\n",
    "    for real1 in range(Nreal):\n",
    "        for imag1 in range(Nimag):\n",
    "\n",
    "            # To avoid repeated poles, we introduce random index\n",
    "            indx = skip_duplicate(real1, imag1, Nreal, Nimag)\n",
    "            \n",
    "            \n",
    "            #Generate Relevant 2-pole in [tb] sheet\n",
    "            pole01 = unif_pole(RSpole[0], Ereal[indx[0][0]], Eimag[indx[1][0]] )\n",
    "            pole02 = unif_pole(RSpole[1], Ereal[indx[0][1]], Eimag[indx[1][1]] )\n",
    "            pole03 = unif_pole(RSpole[0], Ereal[indx[0][2]], Eimag[indx[1][2]] )\n",
    "            pole04 = unif_pole(RSpole[0], Ereal[indx[0][3]], Eimag[indx[1][3]] )\n",
    "            \n",
    "            # Generate BG poles in different Riemann sheet\n",
    "            pole1 = unif_pole( RSpole[np.random.choice([1, 2])], Erealfar[indx[0][4]], Eimagfar[indx[1][4]] )\n",
    "            pole2 = unif_pole( RSpole[np.random.choice([1, 2])], Erealfar[indx[0][5]], Eimagfar[indx[1][5]] )\n",
    "            pole3 = unif_pole( RSpole[np.random.choice([1, 2])], Erealfar[indx[0][6]], Eimagfar[indx[1][6]] )\n",
    "            pole4 = unif_pole( RSpole[np.random.choice([1, 2])], Erealfar[indx[0][7]], Eimagfar[indx[1][7]] )\n",
    "            pole5 = unif_pole( RSpole[np.random.choice([1, 2])], Erealfar[indx[0][8]], Eimagfar[indx[1][8]] )\n",
    "            pole6 = unif_pole( RSpole[np.random.choice([1, 2])], Erealfar[indx[0][9]], Eimagfar[indx[1][9]] )\n",
    "        \n",
    "        pole_list_main = [pole01, pole02, pole03, pole04]\n",
    "        pole_list_bg = [pole1, pole2, pole3, pole4, pole5, pole6]\n",
    "        pole_list = [pole01, pole02, pole03, pole04, pole1, pole2, pole3, pole4, pole5, pole6]\n",
    "        \n",
    "        # Calculate BG S-matrices for each pole for all energy points\n",
    "        smat11_values = np.array([pole.smat11(Einput) for pole in pole_list_main])\n",
    "        smat22_values = np.array([pole.smat22(Einput) for pole in pole_list_main])\n",
    "        smatdet_values = np.array([pole.smatdet(Einput) for pole in pole_list_main])\n",
    "\n",
    "        # Calculate BG S-matrices for each pole for all energy points\n",
    "        smat11_values_bg = np.array([pole.smat11(Einput) for pole in pole_list_bg])\n",
    "        smat22_values_bg = np.array([pole.smat22(Einput) for pole in pole_list_bg])\n",
    "        smatdet_values_bg = np.array([pole.smatdet(Einput) for pole in pole_list_bg])\n",
    "\n",
    "        q01 = 1\n",
    "        q02 = 1\n",
    "        q03 = 0\n",
    "        q04 = 0\n",
    "        q1 = 0#np.random.choice([0, 1])\n",
    "        q2 = 0#np.random.choice([0, 1])\n",
    "        q3 = 0#np.random.choice([0, 1])\n",
    "        q4 = 0#np.random.choice([0, 1])\n",
    "        q5 = 0#np.random.choice([0, 1])\n",
    "        q6 = 0#np.random.choice([0, 1])\n",
    "        \n",
    "        q_list = [q01, q02, q03, q04, q1, q2, q3, q4, q5, q6]\n",
    "\n",
    "        #pwa11\n",
    "        combined_smat11 = ((1-q04)+q04*smat11_values[3])*((1-q03)+q03*smat11_values[2])*((1-q02)+q02*smat11_values[1])*((1-q01)+q01*smat11_values[0])*((1-q1)+q1*smat11_values_bg[0])*((1-q2)+q2*smat11_values_bg[1])*((1-q3)+q3*smat11_values_bg[2])*((1-q4)+q4*smat11_values_bg[3])*((1-q5)+q5*smat11_values_bg[4])*((1-q6)+q6*smat11_values_bg[5])\n",
    "        pwa11 = (combined_smat11 - 1.0) / (2j)\n",
    "        \n",
    "        #pwa22\n",
    "        combined_smat22 = ((1-q04)+q04*smat22_values[3])*((1-q03)+q03*smat22_values[2])*((1-q02)+q02*smat22_values[1])*((1-q01)+q01*smat22_values[0])*((1-q1)+q1*smat22_values_bg[0])*((1-q2)+q2*smat22_values_bg[1])*((1-q3)+q3*smat22_values_bg[2])*((1-q4)+q4*smat22_values_bg[3])*((1-q5)+q5*smat22_values_bg[4])*((1-q6)+q6*smat22_values_bg[5])\n",
    "        pwa22 = (combined_smat22 - 1.0) / (2j)*np.heaviside(Einput-T2*197.3,0)\n",
    "        \n",
    "        #pwa12\n",
    "        combined_smatdet = ((1-q04)+q04*smatdet_values[3])*((1-q03)+q03*smatdet_values[2])*((1-q02)+q02*smatdet_values[1])*((1-q01)+q01*smatdet_values[0])*((1-q1)+q1*smatdet_values_bg[0])*((1-q2)+q2*smatdet_values_bg[1])*((1-q3)+q3*smatdet_values_bg[2])*((1-q4)+q4*smatdet_values_bg[3])*((1-q5)+q5*smatdet_values_bg[4])*((1-q6)+q6*smatdet_values_bg[5])\n",
    "        pwa12sqr = ((-1.0)*((combined_smat11*combined_smat22-combined_smatdet))/4.0)*np.heaviside(Einput-T2*197.3,0)\n",
    "        mod12sqr = np.abs(pwa12sqr)\n",
    "        arg12sqr = np.unwrap(np.array([np.angle(z) for z in pwa12sqr]))\n",
    "        pwa12 = np.sqrt(mod12sqr)*np.exp(1j* arg12sqr / 2)\n",
    "\n",
    "        # Calculate PWAT\n",
    "        pwatadd = pwa11 + pwa12\n",
    "        PWAT = np.abs(pwatadd)**2 #np.conjugate(pwa11) * pwa11 + np.conjugate(pwa12) * pwa12 + np.conjugate(pwa11)*pwa12 +pwa11*np.conjugate(pwa12)\n",
    "\n",
    "        coeff = np.random.uniform(0, 5, 3)\n",
    "        A = np.random.uniform(1, 1000)\n",
    "        poly_bg = polynomial(coeff, Einput)\n",
    "        \n",
    "        sim_exp = A*phase_space*(PWAT + poly_bg)\n",
    "        PWAT = sim_exp\n",
    "        \n",
    "        # Collect input data\n",
    "        Emock.append(Einput) \n",
    "        ModEsq.append(PWAT)\n",
    "        Re11.append(pwa11.real)\n",
    "        Im11.append(pwa11.imag)\n",
    "        Re22.append(pwa22.real)\n",
    "        Im22.append(pwa22.imag)\n",
    "        labelout.append(3)\n",
    "\n",
    "\n",
    "        if inspect == True:\n",
    "            information = [[pole.pos for pole in pole_list], \n",
    "                           [pole.RS for pole in pole_list],\n",
    "                           q_list\n",
    "                          ]\n",
    "            data_info.append(information)\n",
    "\n",
    "    return Emock, ModEsq, Re11, Im11, Re22, Im22, labelout, data_info"
   ]
  },
  {
   "cell_type": "code",
   "execution_count": null,
   "id": "c7ea71c5-8a11-486d-af7e-5db0e1aac31d",
   "metadata": {},
   "outputs": [],
   "source": [
    "Einput03, ModEsq03, Re11_03, Im11_03, Re22_03, Im22_03, labelout03, data_info03  = gen_ccdataset03(Ereal, Eimag, Erealfar, Eimagfar, inspect)\n",
    "out = directory\n",
    "pickle.dump (Einput03, open(os.path.join(out,'Einput03.pkl'),'wb'), protocol=4)\n",
    "pickle.dump (ModEsq03, open(os.path.join(out,'ModEsq03.pkl'),'wb'), protocol=4)\n",
    "pickle.dump (labelout03, open(os.path.join(out,'labelout03.pkl'),'wb'), protocol=4)\n",
    "pickle.dump (data_info03, open(os.path.join(out,'data_info03.pkl'),'wb'), protocol=4)\n",
    "#The following will collect the data that will go to the input layer:\n",
    "#You can design a DNN with Einput and T11sqr in the input layer\n",
    "# PWATsqr00 = [x*np.conjugate(x) + y*np.conjugate(y) + np.conjugate(x)*y + x*np.conjugate(y) for x, y in zip(RePWAT00, ImPWAT00)]\n",
    "PWATsqr03 = np.concatenate((Einput03,ModEsq03), axis=1)\n",
    "#or you can design a DNN with Einput, ReT11 and ImT11 in the input layer\n",
    "# PWAT00 = np.concatenate((Einput00,ReT1100, ImT1100), axis=1)\n",
    "pickle.dump (PWATsqr03, open(os.path.join(out,'PWATsqr03.pkl'),'wb'), protocol=4)\n",
    "# pickle.dump (T1100, open(os.path.join(out,'T1100.pkl'),'wb'), protocol=4)\n",
    "# del Einput21, ModEsq21, RePWAT21, ImPWAT21, labelout21, data_info21, PWATsqr21"
   ]
  },
  {
   "cell_type": "code",
   "execution_count": null,
   "id": "4e6faeb8-5ba5-4684-bdb6-ba656f4a18e6",
   "metadata": {},
   "outputs": [],
   "source": [
    "seerealimagpart(Einput03, ModEsq03, Re11_03, Im11_03, Re22_03, Im22_03, labelout03, data_info03)"
   ]
  },
  {
   "cell_type": "code",
   "execution_count": null,
   "id": "7d5f5eff-d657-43a6-85f5-aaae459f896f",
   "metadata": {},
   "outputs": [],
   "source": [
    "seerealimagpart(Einput03, ModEsq03, Re11_03, Im11_03, Re22_03, Im22_03, labelout03, data_info03)"
   ]
  },
  {
   "cell_type": "code",
   "execution_count": null,
   "id": "14595033-5333-4292-a36a-1ca9fd966c94",
   "metadata": {},
   "outputs": [],
   "source": [
    "seerealimagpart(Einput03, ModEsq03, Re11_03, Im11_03, Re22_03, Im22_03, labelout03, data_info03)"
   ]
  },
  {
   "cell_type": "code",
   "execution_count": null,
   "id": "80be7fe4-858b-4679-a9fe-8c7aef511ff2",
   "metadata": {},
   "outputs": [],
   "source": [
    "seerealimagpart(Einput03, ModEsq03, Re11_03, Im11_03, Re22_03, Im22_03, labelout03, data_info03)"
   ]
  },
  {
   "cell_type": "code",
   "execution_count": null,
   "id": "8bfde987-c2a7-4bbf-a010-f60ad24667d4",
   "metadata": {},
   "outputs": [],
   "source": [
    "seerealimagpart(Einput03, ModEsq03, Re11_03, Im11_03, Re22_03, Im22_03, labelout03, data_info03)"
   ]
  },
  {
   "cell_type": "code",
   "execution_count": null,
   "id": "0288c580-3c0c-42e1-9577-91e4848bd6d7",
   "metadata": {},
   "outputs": [],
   "source": [
    "seerealimagpart(Einput03, ModEsq03, Re11_03, Im11_03, Re22_03, Im22_03, labelout03, data_info03)"
   ]
  },
  {
   "cell_type": "code",
   "execution_count": null,
   "id": "7395b261-a2f2-4c61-bfe2-e6a166fdfe7f",
   "metadata": {},
   "outputs": [],
   "source": [
    "seerealimagpart(Einput03, ModEsq03, Re11_03, Im11_03, Re22_03, Im22_03, labelout03, data_info03)"
   ]
  },
  {
   "cell_type": "code",
   "execution_count": null,
   "id": "50dde0f0-2582-4e41-9f8d-111b85b7f917",
   "metadata": {},
   "outputs": [],
   "source": [
    "seerealimagpart(Einput03, ModEsq03, Re11_03, Im11_03, Re22_03, Im22_03, labelout03, data_info03)"
   ]
  },
  {
   "cell_type": "code",
   "execution_count": null,
   "id": "ca46d0d9-25bd-452a-90e0-ba2ea6f902ed",
   "metadata": {},
   "outputs": [],
   "source": [
    "seerealimagpart(Einput03, ModEsq03, Re11_03, Im11_03, Re22_03, Im22_03, labelout03, data_info03)"
   ]
  },
  {
   "cell_type": "code",
   "execution_count": null,
   "id": "795d3a9a-cba5-4605-bd1b-00e39b19992f",
   "metadata": {},
   "outputs": [],
   "source": [
    "seerealimagpart(Einput03, ModEsq03, Re11_03, Im11_03, Re22_03, Im22_03, labelout03, data_info03)"
   ]
  },
  {
   "cell_type": "code",
   "execution_count": null,
   "id": "ca49bf84-0984-4ea5-8318-5037ff613fe3",
   "metadata": {},
   "outputs": [],
   "source": [
    "seerealimagpart(Einput03, ModEsq03, Re11_03, Im11_03, Re22_03, Im22_03, labelout03, data_info03)"
   ]
  },
  {
   "cell_type": "code",
   "execution_count": null,
   "id": "02612815-b359-46f6-8695-b042e79b69b8",
   "metadata": {},
   "outputs": [],
   "source": [
    "seerealimagpart(Einput03, ModEsq03, Re11_03, Im11_03, Re22_03, Im22_03, labelout03, data_info03)"
   ]
  },
  {
   "cell_type": "code",
   "execution_count": null,
   "id": "178147f1-5ff9-436f-a00c-3546c422d4b0",
   "metadata": {},
   "outputs": [],
   "source": [
    "seerealimagpart(Einput03, ModEsq03, Re11_03, Im11_03, Re22_03, Im22_03, labelout03, data_info03)"
   ]
  },
  {
   "cell_type": "code",
   "execution_count": null,
   "id": "05c15a47-1da8-4741-9189-cfadb797fd09",
   "metadata": {},
   "outputs": [],
   "source": [
    "seerealimagpart(Einput03, ModEsq03, Re11_03, Im11_03, Re22_03, Im22_03, labelout03, data_info03)"
   ]
  },
  {
   "cell_type": "code",
   "execution_count": null,
   "id": "bf285a00-d6d7-433d-9bc3-6ef9af15486b",
   "metadata": {},
   "outputs": [],
   "source": [
    "seerealimagpart(Einput03, ModEsq03, Re11_03, Im11_03, Re22_03, Im22_03, labelout03, data_info03)"
   ]
  },
  {
   "cell_type": "code",
   "execution_count": null,
   "id": "206fe100-1331-4d36-bb66-918ee503d376",
   "metadata": {},
   "outputs": [],
   "source": [
    "seerealimagpart(Einput03, ModEsq03, Re11_03, Im11_03, Re22_03, Im22_03, labelout03, data_info03)"
   ]
  },
  {
   "cell_type": "code",
   "execution_count": null,
   "id": "acb77a4a-0842-4e49-ba60-1e1ddec6e86d",
   "metadata": {},
   "outputs": [],
   "source": [
    "seerealimagpart(Einput03, ModEsq03, Re11_03, Im11_03, Re22_03, Im22_03, labelout03, data_info03)"
   ]
  },
  {
   "cell_type": "code",
   "execution_count": null,
   "id": "fb535f90-3030-437e-8cce-c57515740a0b",
   "metadata": {},
   "outputs": [],
   "source": [
    "seerealimagpart(Einput03, ModEsq03, Re11_03, Im11_03, Re22_03, Im22_03, labelout03, data_info03)"
   ]
  },
  {
   "cell_type": "code",
   "execution_count": null,
   "id": "b822ca46-3869-4d5b-b40e-34225416c841",
   "metadata": {},
   "outputs": [],
   "source": [
    "seerealimagpart(Einput03, ModEsq03, Re11_03, Im11_03, Re22_03, Im22_03, labelout03, data_info03)"
   ]
  },
  {
   "cell_type": "code",
   "execution_count": null,
   "id": "e3b40bcf-7daf-487a-b89b-5efafb8a60a1",
   "metadata": {},
   "outputs": [],
   "source": [
    "seerealimagpart(Einput03, ModEsq03, Re11_03, Im11_03, Re22_03, Im22_03, labelout03, data_info03)"
   ]
  },
  {
   "cell_type": "code",
   "execution_count": null,
   "id": "29d5a9fd-8a00-4f76-a3cc-65d6d765c3bd",
   "metadata": {},
   "outputs": [],
   "source": [
    "del Einput03, ModEsq03, Re11_03, Im11_03, Re22_03, Im22_03, labelout03, data_info03"
   ]
  }
 ],
 "metadata": {
  "kernelspec": {
   "display_name": "Python 3 (ipykernel)",
   "language": "python",
   "name": "python3"
  },
  "language_info": {
   "codemirror_mode": {
    "name": "ipython",
    "version": 3
   },
   "file_extension": ".py",
   "mimetype": "text/x-python",
   "name": "python",
   "nbconvert_exporter": "python",
   "pygments_lexer": "ipython3",
   "version": "3.11.4"
  }
 },
 "nbformat": 4,
 "nbformat_minor": 5
}
