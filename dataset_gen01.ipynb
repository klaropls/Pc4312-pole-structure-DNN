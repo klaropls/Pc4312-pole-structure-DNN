{
 "cells": [
  {
   "cell_type": "code",
   "execution_count": null,
   "id": "e4f8d1a7-7764-4684-9cce-d69605a4bd0d",
   "metadata": {},
   "outputs": [],
   "source": [
    "import math\n",
    "import numpy as np\n",
    "import cmath as cm\n",
    "import random\n",
    "import pickle\n",
    "import os\n",
    "import pandas as pd\n",
    "import matplotlib.pyplot as plt\n",
    "from matplotlib.pyplot import figure\n",
    "import chainer\n",
    "from chainer import configuration\n",
    "from chainer.dataset import convert\n",
    "import sklearn\n",
    "from sklearn.utils import shuffle\n",
    "from tabulate import tabulate\n",
    "import datetime\n",
    "\n",
    "#Import the module containing the class pole\n",
    "import import_ipynb\n",
    "import final_pole_module\n",
    "from final_pole_module import detect_cusp, unif_pole, T1, T2, Einput,  generate_timestamp, seerealimagpart\n",
    "from final_pole_module import mu1, mu2, T1, T2, T4, Nreal, Nimag, hbarc, phase_space, polynomial\n",
    "from final_pole_module import Einput, Ereal, Eimag, Erealfar, Eimagfar, E_exp, labelz, inspect, NEpoints\n",
    "from final_pole_module import skip_duplicate, export_data, import_data, get_traintest, directory"
   ]
  },
  {
   "cell_type": "code",
   "execution_count": null,
   "id": "a799abc7-b8ce-4851-9a55-92a6f508f1c1",
   "metadata": {},
   "outputs": [],
   "source": [
    "def gen_ccdataset01(Ereal, Eimag, Erealfar, Eimagfar, inspect):\n",
    "    #generate dataset for output label 01: '1 pole in [bt]'\n",
    "    \n",
    "    Emock = []\n",
    "    ModEsq = []\n",
    "    Re11 = []\n",
    "    Re22 = []\n",
    "    Im11 = []\n",
    "    Im22 = []\n",
    "    labelout = []\n",
    "    data_info = []\n",
    "    \n",
    "    \n",
    "    # Possible Riemann sheets\n",
    "    RSpole = [[-1, 1], [-1, -1], [1, -1]]\n",
    "    \n",
    "    # Shuffle indexing\n",
    "    for lst in [Ereal, Eimag, Erealfar, Eimagfar]:\n",
    "        for _ in range(10):\n",
    "            np.random.shuffle(lst)\n",
    "\n",
    "    # Generate poles in each Riemann sheet\n",
    "    for real1 in range(Nreal):\n",
    "        for imag1 in range(Nimag):\n",
    "            # Randomly choose Riemann sheet\n",
    "            # To avoid repeated poles, we introduce random index\n",
    "            indx = skip_duplicate(real1, imag1, Nreal, Nimag)\n",
    "            \n",
    "            #Generate Relevant 1-pole in [bt] sheet\n",
    "            pole01 = unif_pole(RSpole[1], Ereal[indx[0][0]], Eimag[indx[1][0]] )\n",
    "            pole02 = unif_pole(RSpole[0], Ereal[indx[0][1]], Eimag[indx[1][1]] )\n",
    "            pole03 = unif_pole(RSpole[0], Ereal[indx[0][2]], Eimag[indx[1][2]] )\n",
    "            pole04 = unif_pole(RSpole[0], Ereal[indx[0][3]], Eimag[indx[1][3]] )\n",
    "            \n",
    "            # Generate BG poles in different Riemann sheet\n",
    "            pole1 = unif_pole( RSpole[np.random.choice([1, 2])], Erealfar[indx[0][4]], Eimagfar[indx[1][4]] )\n",
    "            pole2 = unif_pole( RSpole[np.random.choice([1, 2])], Erealfar[indx[0][5]], Eimagfar[indx[1][5]] )\n",
    "            pole3 = unif_pole( RSpole[np.random.choice([1, 2])], Erealfar[indx[0][6]], Eimagfar[indx[1][6]] )\n",
    "            pole4 = unif_pole( RSpole[np.random.choice([1, 2])], Erealfar[indx[0][7]], Eimagfar[indx[1][7]] )\n",
    "            pole5 = unif_pole( RSpole[np.random.choice([1, 2])], Erealfar[indx[0][8]], Eimagfar[indx[1][8]] )\n",
    "            pole6 = unif_pole( RSpole[np.random.choice([1, 2])], Erealfar[indx[0][9]], Eimagfar[indx[1][9]] )\n",
    "        \n",
    "        pole_list_main = [pole01, pole02, pole03, pole04]\n",
    "        pole_list_bg = [pole1, pole2, pole3, pole4, pole5, pole6]\n",
    "        pole_list = [pole01, pole02, pole03, pole04, pole1, pole2, pole3, pole4, pole5, pole6]\n",
    "        \n",
    "        # Calculate BG S-matrices for each pole for all energy points\n",
    "        smat11_values = np.array([pole.smat11(Einput) for pole in pole_list_main])\n",
    "        smat22_values = np.array([pole.smat22(Einput) for pole in pole_list_main])\n",
    "        smatdet_values = np.array([pole.smatdet(Einput) for pole in pole_list_main])\n",
    "\n",
    "        # Calculate BG S-matrices for each pole for all energy points\n",
    "        smat11_values_bg = np.array([pole.smat11(Einput) for pole in pole_list_bg])\n",
    "        smat22_values_bg = np.array([pole.smat22(Einput) for pole in pole_list_bg])\n",
    "        smatdet_values_bg = np.array([pole.smatdet(Einput) for pole in pole_list_bg])\n",
    "\n",
    "        q01 = 1\n",
    "        q02 = 0#0\n",
    "        q03 = 0#0\n",
    "        q04 = 0#0\n",
    "        q1 = 0#np.random.choice([0, 1])\n",
    "        q2 = 0#np.random.choice([0, 1])\n",
    "        q3 = 0#np.random.choice([0, 1])\n",
    "        q4 = 0#np.random.choice([0, 1])\n",
    "        q5 = 0#np.random.choice([0, 1])\n",
    "        q6 = 0#np.random.choice([0, 1])\n",
    "        \n",
    "        q_list = [q01, q02, q03, q04, q1, q2, q3, q4, q5, q6]\n",
    "\n",
    "        #pwa11\n",
    "        combined_smat11 = ((1-q04)+q04*smat11_values[3])*((1-q03)+q03*smat11_values[2])*((1-q02)+q02*smat11_values[1])*((1-q01)+q01*smat11_values[0])*((1-q1)+q1*smat11_values_bg[0])*((1-q2)+q2*smat11_values_bg[1])*((1-q3)+q3*smat11_values_bg[2])*((1-q4)+q4*smat11_values_bg[3])*((1-q5)+q5*smat11_values_bg[4])*((1-q6)+q6*smat11_values_bg[5])\n",
    "        pwa11 = (combined_smat11 - 1.0) / (2j)\n",
    "        \n",
    "        #pwa22\n",
    "        combined_smat22 = ((1-q04)+q04*smat22_values[3])*((1-q03)+q03*smat22_values[2])*((1-q02)+q02*smat22_values[1])*((1-q01)+q01*smat22_values[0])*((1-q1)+q1*smat22_values_bg[0])*((1-q2)+q2*smat22_values_bg[1])*((1-q3)+q3*smat22_values_bg[2])*((1-q4)+q4*smat22_values_bg[3])*((1-q5)+q5*smat22_values_bg[4])*((1-q6)+q6*smat22_values_bg[5])\n",
    "        pwa22 = (combined_smat22 - 1.0) / (2j)*np.heaviside(Einput-T2*197.3,0)\n",
    "        \n",
    "        #pwa12\n",
    "        combined_smatdet = ((1-q04)+q04*smatdet_values[3])*((1-q03)+q03*smatdet_values[2])*((1-q02)+q02*smatdet_values[1])*((1-q01)+q01*smatdet_values[0])*((1-q1)+q1*smatdet_values_bg[0])*((1-q2)+q2*smatdet_values_bg[1])*((1-q3)+q3*smatdet_values_bg[2])*((1-q4)+q4*smatdet_values_bg[3])*((1-q5)+q5*smatdet_values_bg[4])*((1-q6)+q6*smatdet_values_bg[5])\n",
    "        pwa12sqr = ((-1.0)*((combined_smat11*combined_smat22-combined_smatdet))/4.0)*np.heaviside(Einput-T2*197.3,0)\n",
    "        mod12sqr = np.abs(pwa12sqr)\n",
    "        arg12sqr = np.unwrap(np.array([np.angle(z) for z in pwa12sqr]))\n",
    "        pwa12 = np.sqrt(mod12sqr)*np.exp(1j* arg12sqr / 2)\n",
    "\n",
    "        \n",
    "\n",
    "        # Calculate PWAT\n",
    "        pwatadd = pwa11 + pwa12\n",
    "        PWAT = np.abs(pwatadd)**2 #np.conjugate(pwa11) * pwa11 + np.conjugate(pwa12) * pwa12 + np.conjugate(pwa11)*pwa12 +pwa11*np.conjugate(pwa12)\n",
    "\n",
    "        coeff = np.random.uniform(0, 5, 3)\n",
    "        A = np.random.uniform(1, 1000)\n",
    "        poly_bg = polynomial(coeff, Einput)\n",
    "        \n",
    "        sim_exp = A*phase_space*(PWAT + poly_bg)\n",
    "        PWAT = sim_exp\n",
    "        \n",
    "        # Collect input data\n",
    "        Emock.append(Einput) \n",
    "        ModEsq.append(PWAT)\n",
    "        Re11.append(pwa11.real)\n",
    "        Im11.append(pwa11.imag)\n",
    "        Re22.append(pwa22.real)\n",
    "        Im22.append(pwa22.imag)\n",
    "        labelout.append(1)\n",
    "\n",
    "\n",
    "        if inspect == True:\n",
    "            information = [[pole.pos for pole in pole_list], \n",
    "                           [pole.RS for pole in pole_list],\n",
    "                           q_list\n",
    "                          ]\n",
    "            data_info.append(information)\n",
    "\n",
    "    return Emock, ModEsq, Re11, Im11, Re22, Im22, labelout, data_info"
   ]
  },
  {
   "cell_type": "code",
   "execution_count": null,
   "id": "a6609060-396f-43fe-be3e-332448b3f14a",
   "metadata": {},
   "outputs": [],
   "source": [
    "Einput01, ModEsq01, Re11_01, Im11_01, Re22_01, Im22_01, labelout01, data_info01  = gen_ccdataset01(Ereal, Eimag, Erealfar, Eimagfar, inspect)\n",
    "out = directory\n",
    "pickle.dump (Einput01, open(os.path.join(out,'Einput01.pkl'),'wb'), protocol=4)\n",
    "pickle.dump (ModEsq01, open(os.path.join(out,'ModEsq01.pkl'),'wb'), protocol=4)\n",
    "pickle.dump (labelout01, open(os.path.join(out,'labelout01.pkl'),'wb'), protocol=4)\n",
    "pickle.dump (data_info01, open(os.path.join(out,'data_info01.pkl'),'wb'), protocol=4)\n",
    "#The following will collect the data that will go to the input layer:\n",
    "#You can design a DNN with Einput and T11sqr in the input layer\n",
    "# PWATsqr00 = [x*np.conjugate(x) + y*np.conjugate(y) + np.conjugate(x)*y + x*np.conjugate(y) for x, y in zip(RePWAT00, ImPWAT00)]\n",
    "PWATsqr01 = np.concatenate((Einput01,ModEsq01), axis=1)\n",
    "#or you can design a DNN with Einput, ReT11 and ImT11 in the input layer\n",
    "# PWAT00 = np.concatenate((Einput00,ReT1100, ImT1100), axis=1)\n",
    "pickle.dump (PWATsqr01, open(os.path.join(out,'PWATsqr01.pkl'),'wb'), protocol=4)\n",
    "# pickle.dump (T1100, open(os.path.join(out,'T1100.pkl'),'wb'), protocol=4)\n",
    "# del Einput21, ModEsq21, RePWAT21, ImPWAT21, labelout21, data_info21, PWATsqr21"
   ]
  },
  {
   "cell_type": "code",
   "execution_count": null,
   "id": "14ab0f10-82f5-4453-9d2c-efe926528c94",
   "metadata": {},
   "outputs": [],
   "source": [
    "seerealimagpart(Einput01, ModEsq01, Re11_01, Im11_01, Re22_01, Im22_01, labelout01, data_info01)"
   ]
  },
  {
   "cell_type": "code",
   "execution_count": null,
   "id": "2dae73fe-05d5-4d1b-8091-1f4ed43355f6",
   "metadata": {},
   "outputs": [],
   "source": [
    "seerealimagpart(Einput01, ModEsq01, Re11_01, Im11_01, Re22_01, Im22_01, labelout01, data_info01)"
   ]
  },
  {
   "cell_type": "code",
   "execution_count": null,
   "id": "5ba8fc7f-2071-4547-9932-03064631ebaa",
   "metadata": {},
   "outputs": [],
   "source": [
    "seerealimagpart(Einput01, ModEsq01, Re11_01, Im11_01, Re22_01, Im22_01, labelout01, data_info01)"
   ]
  },
  {
   "cell_type": "code",
   "execution_count": null,
   "id": "85efed95-6f65-48ab-8e58-f847bb0e76c8",
   "metadata": {},
   "outputs": [],
   "source": [
    "seerealimagpart(Einput01, ModEsq01, Re11_01, Im11_01, Re22_01, Im22_01, labelout01, data_info01)"
   ]
  },
  {
   "cell_type": "code",
   "execution_count": null,
   "id": "bf94fa23-8480-443e-a9d0-cdf6ae4789a1",
   "metadata": {},
   "outputs": [],
   "source": [
    "seerealimagpart(Einput01, ModEsq01, Re11_01, Im11_01, Re22_01, Im22_01, labelout01, data_info01)"
   ]
  },
  {
   "cell_type": "code",
   "execution_count": null,
   "id": "d3a2794d-6a6d-4546-a3da-74f7afe84a24",
   "metadata": {},
   "outputs": [],
   "source": [
    "seerealimagpart(Einput01, ModEsq01, Re11_01, Im11_01, Re22_01, Im22_01, labelout01, data_info01)"
   ]
  },
  {
   "cell_type": "code",
   "execution_count": null,
   "id": "a251c76b-ca10-4d23-b9cc-4c1880c701fd",
   "metadata": {},
   "outputs": [],
   "source": [
    "seerealimagpart(Einput01, ModEsq01, Re11_01, Im11_01, Re22_01, Im22_01, labelout01, data_info01)"
   ]
  },
  {
   "cell_type": "code",
   "execution_count": null,
   "id": "ebf9bffc-d0fd-4530-95f5-c00e2ae45e95",
   "metadata": {},
   "outputs": [],
   "source": [
    "seerealimagpart(Einput01, ModEsq01, Re11_01, Im11_01, Re22_01, Im22_01, labelout01, data_info01)"
   ]
  },
  {
   "cell_type": "code",
   "execution_count": null,
   "id": "41ee576c-76d2-4498-a546-6e52805a13cf",
   "metadata": {},
   "outputs": [],
   "source": [
    "seerealimagpart(Einput01, ModEsq01, Re11_01, Im11_01, Re22_01, Im22_01, labelout01, data_info01)"
   ]
  },
  {
   "cell_type": "code",
   "execution_count": null,
   "id": "8756b42d-768c-4fa8-a0e1-d08f3cbe8f78",
   "metadata": {},
   "outputs": [],
   "source": [
    "seerealimagpart(Einput01, ModEsq01, Re11_01, Im11_01, Re22_01, Im22_01, labelout01, data_info01)"
   ]
  },
  {
   "cell_type": "code",
   "execution_count": null,
   "id": "5d0cdfc7-7093-49fb-bb3d-1fa062876390",
   "metadata": {},
   "outputs": [],
   "source": [
    "seerealimagpart(Einput01, ModEsq01, Re11_01, Im11_01, Re22_01, Im22_01, labelout01, data_info01)"
   ]
  },
  {
   "cell_type": "code",
   "execution_count": null,
   "id": "0e7b34d5-fbc7-4b71-9ac8-676e352bda74",
   "metadata": {},
   "outputs": [],
   "source": [
    "seerealimagpart(Einput01, ModEsq01, Re11_01, Im11_01, Re22_01, Im22_01, labelout01, data_info01)"
   ]
  },
  {
   "cell_type": "code",
   "execution_count": null,
   "id": "e48768bb-a449-4d32-a760-350bb1fdf3f0",
   "metadata": {},
   "outputs": [],
   "source": [
    "seerealimagpart(Einput01, ModEsq01, Re11_01, Im11_01, Re22_01, Im22_01, labelout01, data_info01)"
   ]
  },
  {
   "cell_type": "code",
   "execution_count": null,
   "id": "f33989d0-1791-4db0-98cc-b510932630fc",
   "metadata": {},
   "outputs": [],
   "source": [
    "seerealimagpart(Einput01, ModEsq01, Re11_01, Im11_01, Re22_01, Im22_01, labelout01, data_info01)"
   ]
  },
  {
   "cell_type": "code",
   "execution_count": null,
   "id": "b65f5212-b3ba-4d07-80a8-571aa7f32364",
   "metadata": {},
   "outputs": [],
   "source": [
    "seerealimagpart(Einput01, ModEsq01, Re11_01, Im11_01, Re22_01, Im22_01, labelout01, data_info01)"
   ]
  },
  {
   "cell_type": "code",
   "execution_count": null,
   "id": "f5a36c2b-289e-4df2-9240-8c06249466da",
   "metadata": {},
   "outputs": [],
   "source": [
    "seerealimagpart(Einput01, ModEsq01, Re11_01, Im11_01, Re22_01, Im22_01, labelout01, data_info01)"
   ]
  },
  {
   "cell_type": "code",
   "execution_count": null,
   "id": "b721f3b4-b2a4-47aa-9ffa-553de61b68b0",
   "metadata": {},
   "outputs": [],
   "source": [
    "seerealimagpart(Einput01, ModEsq01, Re11_01, Im11_01, Re22_01, Im22_01, labelout01, data_info01)"
   ]
  },
  {
   "cell_type": "code",
   "execution_count": null,
   "id": "17b665cd-04a9-47e8-9a0f-4e13ee7a259f",
   "metadata": {},
   "outputs": [],
   "source": [
    "seerealimagpart(Einput01, ModEsq01, Re11_01, Im11_01, Re22_01, Im22_01, labelout01, data_info01)"
   ]
  },
  {
   "cell_type": "code",
   "execution_count": null,
   "id": "7546ee6e-444e-4b7f-9c10-fd3fa0990df4",
   "metadata": {},
   "outputs": [],
   "source": [
    "seerealimagpart(Einput01, ModEsq01, Re11_01, Im11_01, Re22_01, Im22_01, labelout01, data_info01)"
   ]
  },
  {
   "cell_type": "code",
   "execution_count": null,
   "id": "0412751d-b124-4d9e-aa21-b4f5d26731c7",
   "metadata": {},
   "outputs": [],
   "source": [
    "seerealimagpart(Einput01, ModEsq01, Re11_01, Im11_01, Re22_01, Im22_01, labelout01, data_info01)"
   ]
  },
  {
   "cell_type": "code",
   "execution_count": null,
   "id": "d9d1dd4e-1e28-461b-849c-f092e68827d9",
   "metadata": {},
   "outputs": [],
   "source": [
    "del Einput01, ModEsq01, Re11_01, Im11_01, Re22_01, Im22_01, labelout01, data_info01"
   ]
  }
 ],
 "metadata": {
  "kernelspec": {
   "display_name": "Python 3 (ipykernel)",
   "language": "python",
   "name": "python3"
  },
  "language_info": {
   "codemirror_mode": {
    "name": "ipython",
    "version": 3
   },
   "file_extension": ".py",
   "mimetype": "text/x-python",
   "name": "python",
   "nbconvert_exporter": "python",
   "pygments_lexer": "ipython3",
   "version": "3.12.4"
  }
 },
 "nbformat": 4,
 "nbformat_minor": 5
}
